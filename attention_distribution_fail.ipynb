{
 "cells": [
  {
   "cell_type": "code",
   "execution_count": 16,
   "metadata": {
    "colab": {
     "base_uri": "https://localhost:8080/",
     "height": 400
    },
    "executionInfo": {
     "elapsed": 140,
     "status": "error",
     "timestamp": 1751101581531,
     "user": {
      "displayName": "Jimmy Hou",
      "userId": "08850621637137653332"
     },
     "user_tz": -480
    },
    "id": "lUhWvM8e_hq3",
    "outputId": "0f6b998a-f648-491b-f17f-43a85b80fe79"
   },
   "outputs": [
    {
     "ename": "MissingConfigException",
     "evalue": "Primary config directory not found.\nCheck that the config directory '/tmp/configs' exists and readable",
     "output_type": "error",
     "traceback": [
      "\u001b[0;31m---------------------------------------------------------------------------\u001b[0m",
      "\u001b[0;31mMissingConfigException\u001b[0m                    Traceback (most recent call last)",
      "\u001b[0;32m/tmp/ipython-input-16-2694191220.py\u001b[0m in \u001b[0;36m<cell line: 0>\u001b[0;34m()\u001b[0m\n\u001b[1;32m     15\u001b[0m \u001b[0;31m# ──────────────────────────────────────────────────────────────────────────────\u001b[0m\u001b[0;34m\u001b[0m\u001b[0;34m\u001b[0m\u001b[0m\n\u001b[1;32m     16\u001b[0m \u001b[0;32mwith\u001b[0m \u001b[0minitialize\u001b[0m\u001b[0;34m(\u001b[0m\u001b[0mconfig_path\u001b[0m\u001b[0;34m=\u001b[0m\u001b[0;34m\"configs\"\u001b[0m\u001b[0;34m,\u001b[0m \u001b[0mversion_base\u001b[0m\u001b[0;34m=\u001b[0m\u001b[0;32mNone\u001b[0m\u001b[0;34m)\u001b[0m\u001b[0;34m:\u001b[0m\u001b[0;34m\u001b[0m\u001b[0;34m\u001b[0m\u001b[0m\n\u001b[0;32m---> 17\u001b[0;31m     cfg = compose(\n\u001b[0m\u001b[1;32m     18\u001b[0m         \u001b[0mconfig_name\u001b[0m\u001b[0;34m=\u001b[0m\u001b[0;34m\"main\"\u001b[0m\u001b[0;34m,\u001b[0m\u001b[0;34m\u001b[0m\u001b[0;34m\u001b[0m\u001b[0m\n\u001b[1;32m     19\u001b[0m         overrides=[\n",
      "\u001b[0;32m/usr/local/lib/python3.11/dist-packages/hydra/compose.py\u001b[0m in \u001b[0;36mcompose\u001b[0;34m(config_name, overrides, return_hydra_config, strict)\u001b[0m\n\u001b[1;32m     36\u001b[0m     \u001b[0mgh\u001b[0m \u001b[0;34m=\u001b[0m \u001b[0mGlobalHydra\u001b[0m\u001b[0;34m.\u001b[0m\u001b[0minstance\u001b[0m\u001b[0;34m(\u001b[0m\u001b[0;34m)\u001b[0m\u001b[0;34m\u001b[0m\u001b[0;34m\u001b[0m\u001b[0m\n\u001b[1;32m     37\u001b[0m     \u001b[0;32massert\u001b[0m \u001b[0mgh\u001b[0m\u001b[0;34m.\u001b[0m\u001b[0mhydra\u001b[0m \u001b[0;32mis\u001b[0m \u001b[0;32mnot\u001b[0m \u001b[0;32mNone\u001b[0m\u001b[0;34m\u001b[0m\u001b[0;34m\u001b[0m\u001b[0m\n\u001b[0;32m---> 38\u001b[0;31m     cfg = gh.hydra.compose_config(\n\u001b[0m\u001b[1;32m     39\u001b[0m         \u001b[0mconfig_name\u001b[0m\u001b[0;34m=\u001b[0m\u001b[0mconfig_name\u001b[0m\u001b[0;34m,\u001b[0m\u001b[0;34m\u001b[0m\u001b[0;34m\u001b[0m\u001b[0m\n\u001b[1;32m     40\u001b[0m         \u001b[0moverrides\u001b[0m\u001b[0;34m=\u001b[0m\u001b[0moverrides\u001b[0m\u001b[0;34m,\u001b[0m\u001b[0;34m\u001b[0m\u001b[0;34m\u001b[0m\u001b[0m\n",
      "\u001b[0;32m/usr/local/lib/python3.11/dist-packages/hydra/_internal/hydra.py\u001b[0m in \u001b[0;36mcompose_config\u001b[0;34m(self, config_name, overrides, run_mode, with_log_configuration, from_shell, validate_sweep_overrides)\u001b[0m\n\u001b[1;32m    592\u001b[0m         \"\"\"\n\u001b[1;32m    593\u001b[0m \u001b[0;34m\u001b[0m\u001b[0m\n\u001b[0;32m--> 594\u001b[0;31m         cfg = self.config_loader.load_configuration(\n\u001b[0m\u001b[1;32m    595\u001b[0m             \u001b[0mconfig_name\u001b[0m\u001b[0;34m=\u001b[0m\u001b[0mconfig_name\u001b[0m\u001b[0;34m,\u001b[0m\u001b[0;34m\u001b[0m\u001b[0;34m\u001b[0m\u001b[0m\n\u001b[1;32m    596\u001b[0m             \u001b[0moverrides\u001b[0m\u001b[0;34m=\u001b[0m\u001b[0moverrides\u001b[0m\u001b[0;34m,\u001b[0m\u001b[0;34m\u001b[0m\u001b[0;34m\u001b[0m\u001b[0m\n",
      "\u001b[0;32m/usr/local/lib/python3.11/dist-packages/hydra/_internal/config_loader_impl.py\u001b[0m in \u001b[0;36mload_configuration\u001b[0;34m(self, config_name, overrides, run_mode, from_shell, validate_sweep_overrides)\u001b[0m\n\u001b[1;32m    140\u001b[0m     ) -> DictConfig:\n\u001b[1;32m    141\u001b[0m         \u001b[0;32mtry\u001b[0m\u001b[0;34m:\u001b[0m\u001b[0;34m\u001b[0m\u001b[0;34m\u001b[0m\u001b[0m\n\u001b[0;32m--> 142\u001b[0;31m             return self._load_configuration_impl(\n\u001b[0m\u001b[1;32m    143\u001b[0m                 \u001b[0mconfig_name\u001b[0m\u001b[0;34m=\u001b[0m\u001b[0mconfig_name\u001b[0m\u001b[0;34m,\u001b[0m\u001b[0;34m\u001b[0m\u001b[0;34m\u001b[0m\u001b[0m\n\u001b[1;32m    144\u001b[0m                 \u001b[0moverrides\u001b[0m\u001b[0;34m=\u001b[0m\u001b[0moverrides\u001b[0m\u001b[0;34m,\u001b[0m\u001b[0;34m\u001b[0m\u001b[0;34m\u001b[0m\u001b[0m\n",
      "\u001b[0;32m/usr/local/lib/python3.11/dist-packages/hydra/_internal/config_loader_impl.py\u001b[0m in \u001b[0;36m_load_configuration_impl\u001b[0;34m(self, config_name, overrides, run_mode, from_shell, validate_sweep_overrides)\u001b[0m\n\u001b[1;32m    241\u001b[0m         \u001b[0;32mfrom\u001b[0m \u001b[0mhydra\u001b[0m \u001b[0;32mimport\u001b[0m \u001b[0m__version__\u001b[0m\u001b[0;34m,\u001b[0m \u001b[0mversion\u001b[0m\u001b[0;34m\u001b[0m\u001b[0;34m\u001b[0m\u001b[0m\n\u001b[1;32m    242\u001b[0m \u001b[0;34m\u001b[0m\u001b[0m\n\u001b[0;32m--> 243\u001b[0;31m         \u001b[0mself\u001b[0m\u001b[0;34m.\u001b[0m\u001b[0mensure_main_config_source_available\u001b[0m\u001b[0;34m(\u001b[0m\u001b[0;34m)\u001b[0m\u001b[0;34m\u001b[0m\u001b[0;34m\u001b[0m\u001b[0m\n\u001b[0m\u001b[1;32m    244\u001b[0m         parsed_overrides, caching_repo = self._parse_overrides_and_create_caching_repo(\n\u001b[1;32m    245\u001b[0m             \u001b[0mconfig_name\u001b[0m\u001b[0;34m,\u001b[0m \u001b[0moverrides\u001b[0m\u001b[0;34m\u001b[0m\u001b[0;34m\u001b[0m\u001b[0m\n",
      "\u001b[0;32m/usr/local/lib/python3.11/dist-packages/hydra/_internal/config_loader_impl.py\u001b[0m in \u001b[0;36mensure_main_config_source_available\u001b[0;34m(self)\u001b[0m\n\u001b[1;32m    127\u001b[0m                         )\n\u001b[1;32m    128\u001b[0m \u001b[0;34m\u001b[0m\u001b[0m\n\u001b[0;32m--> 129\u001b[0;31m                     self._missing_config_error(\n\u001b[0m\u001b[1;32m    130\u001b[0m                         \u001b[0mconfig_name\u001b[0m\u001b[0;34m=\u001b[0m\u001b[0;32mNone\u001b[0m\u001b[0;34m,\u001b[0m \u001b[0mmsg\u001b[0m\u001b[0;34m=\u001b[0m\u001b[0mmsg\u001b[0m\u001b[0;34m,\u001b[0m \u001b[0mwith_search_path\u001b[0m\u001b[0;34m=\u001b[0m\u001b[0;32mFalse\u001b[0m\u001b[0;34m\u001b[0m\u001b[0;34m\u001b[0m\u001b[0m\n\u001b[1;32m    131\u001b[0m                     )\n",
      "\u001b[0;32m/usr/local/lib/python3.11/dist-packages/hydra/_internal/config_loader_impl.py\u001b[0m in \u001b[0;36m_missing_config_error\u001b[0;34m(self, config_name, msg, with_search_path)\u001b[0m\n\u001b[1;32m    100\u001b[0m                 \u001b[0;32mreturn\u001b[0m \u001b[0mmsg\u001b[0m\u001b[0;34m\u001b[0m\u001b[0;34m\u001b[0m\u001b[0m\n\u001b[1;32m    101\u001b[0m \u001b[0;34m\u001b[0m\u001b[0m\n\u001b[0;32m--> 102\u001b[0;31m         raise MissingConfigException(\n\u001b[0m\u001b[1;32m    103\u001b[0m             \u001b[0mmissing_cfg_file\u001b[0m\u001b[0;34m=\u001b[0m\u001b[0mconfig_name\u001b[0m\u001b[0;34m,\u001b[0m \u001b[0mmessage\u001b[0m\u001b[0;34m=\u001b[0m\u001b[0madd_search_path\u001b[0m\u001b[0;34m(\u001b[0m\u001b[0;34m)\u001b[0m\u001b[0;34m\u001b[0m\u001b[0;34m\u001b[0m\u001b[0m\n\u001b[1;32m    104\u001b[0m         )\n",
      "\u001b[0;31mMissingConfigException\u001b[0m: Primary config directory not found.\nCheck that the config directory '/tmp/configs' exists and readable"
     ]
    }
   ],
   "source": [
    "import os\n",
    "import torch\n",
    "from hydra import initialize, compose\n",
    "from models.bcat import BCAT\n",
    "from utils.muon import Muon\n",
    "from omegaconf import OmegaConf\n",
    "\n",
    "# ──────────────────────────────────────────────────────────────────────────────\n",
    "# 1) cd into repo root so Hydra and imports work\n",
    "# ──────────────────────────────────────────────────────────────────────────────\n",
    "# os.chdir(\"/content/drive/MyDrive/bcat-main\")\n",
    "\n",
    "# ──────────────────────────────────────────────────────────────────────────────\n",
    "# 2) Build the exact same Hydra config you used in training\n",
    "# ──────────────────────────────────────────────────────────────────────────────\n",
    "with initialize(config_path=\"configs\", version_base=None):\n",
    "    cfg = compose(\n",
    "        config_name=\"main\",\n",
    "        overrides=[\n",
    "            \"data=fluids_arena\",\n",
    "            \"data.incom_ns_arena_u.folder=/tmp/pde_h5_files\",\n",
    "            \"optim=muon\",\n",
    "            \"model.n_layer=12\",\n",
    "            \"model.dim_emb=512\",\n",
    "            \"model.dim_ffn=2048\",\n",
    "            \"model.n_head=8\",\n",
    "            \"model.kv_cache=false\",\n",
    "            \"use_wandb=1\",\n",
    "            \"batch_size=1\",\n",
    "            \"n_steps_per_epoch=1000\",\n",
    "            \"max_epoch=20\",\n",
    "        ],\n",
    "    )\n",
    "\n",
    "# ──────────────────────────────────────────────────────────────────────────────\n",
    "# 3) Instantiate BCAT + Muon optimizer exactly as in training\n",
    "# ──────────────────────────────────────────────────────────────────────────────\n",
    "model = BCAT(\n",
    "    cfg.model,\n",
    "    x_num          = cfg.data.x_num,\n",
    "    max_output_dim = cfg.data.max_output_dimension\n",
    ")\n",
    "\n",
    "# split parameters into Muon vs AdamW\n",
    "named = [(n,p) for n,p in model.named_parameters() if p.requires_grad]\n",
    "adam_keys    = [\"embed\"]\n",
    "muon_params, adamw_params = [], []\n",
    "for name, p in named:\n",
    "    if p.ndim >= 2 and \".self_attn.\" in name and not any(k in name for k in adam_keys):\n",
    "        muon_params.append(p)\n",
    "    else:\n",
    "        adamw_params.append(p)\n",
    "\n",
    "optimizer = Muon(\n",
    "    lr           = cfg.optim.lr,\n",
    "    wd           = cfg.optim.weight_decay,\n",
    "    muon_params  = muon_params,\n",
    "    adamw_params = adamw_params,\n",
    "    adamw_betas  = (0.9, cfg.optim.get(\"beta2\", 0.95)),\n",
    "    adamw_eps    = cfg.optim.get(\"eps\", 1e-8),\n",
    ")\n",
    "\n",
    "# ──────────────────────────────────────────────────────────────────────────────\n",
    "# 4) Load your checkpoint\n",
    "# ──────────────────────────────────────────────────────────────────────────────\n",
    "ckpt_path = \"/content/drive/MyDrive/bcat-main/checkpoint/bcat/muon_ns_attention_52M/checkpoint.pth\"\n",
    "ckpt = torch.load(ckpt_path, map_location=\"cpu\")\n",
    "\n",
    "model.load_state_dict(ckpt[\"model\"])\n",
    "optimizer.load_state_dict(ckpt[\"optimizer\"])\n",
    "\n",
    "start_epoch  = ckpt.get(\"epoch\", 0)\n",
    "best_metrics = ckpt.get(\"best_metrics\", {})\n",
    "print(f\"✅  Resumed from epoch {start_epoch} | best_metrics={best_metrics}\")"
   ]
  },
  {
   "cell_type": "code",
   "execution_count": null,
   "metadata": {
    "id": "Bj8F3mCFFxwC"
   },
   "outputs": [],
   "source": []
  }
 ],
 "metadata": {
  "accelerator": "GPU",
  "colab": {
   "gpuType": "T4",
   "provenance": []
  },
  "kernelspec": {
   "display_name": "Python 3",
   "name": "python3"
  },
  "language_info": {
   "name": "python"
  }
 },
 "nbformat": 4,
 "nbformat_minor": 0
}
